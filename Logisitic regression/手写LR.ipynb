{
 "cells": [
  {
   "cell_type": "code",
   "execution_count": 5,
   "metadata": {},
   "outputs": [],
   "source": [
    "import numpy as np\n",
    "import pandas as pd\n",
    "def sigmoid(z):\n",
    "    sigmoid = 1 / (1 + np.exp(-z))\n",
    "    return sigmoid\n",
    "\n",
    "def loss(h,y):\n",
    "    loss = (-y* np.log(h)-(1-y)* np.log(1-h)).mean\n",
    "    return loss\n",
    "\n",
    "def gradient(X,h,y):\n",
    "    gradient = np.dot(X.T,(h-y)) / y.shape[0]\n",
    "    return gradient"
   ]
  },
  {
   "cell_type": "code",
   "execution_count": 3,
   "metadata": {},
   "outputs": [
    {
     "data": {
      "text/plain": [
       "['--2019-03-19 22:36:28--  http://labfile.oss.aliyuncs.com/courses/1081/course-8-data.csv',\n",
       " '正在解析主机 labfile.oss.aliyuncs.com (labfile.oss.aliyuncs.com)... 47.110.177.159',\n",
       " '正在连接 labfile.oss.aliyuncs.com (labfile.oss.aliyuncs.com)|47.110.177.159|:80... 已连接。',\n",
       " '已发出 HTTP 请求，正在等待回应... 200 OK',\n",
       " '长度：1567 (1.5K) [text/csv]',\n",
       " '正在保存至: “course-8-data.csv”',\n",
       " '',\n",
       " '     0K .                                                     100% 87.9M=0s',\n",
       " '',\n",
       " '2019-03-19 22:36:29 (87.9 MB/s) - 已保存 “course-8-data.csv” [1567/1567])',\n",
       " '']"
      ]
     },
     "execution_count": 3,
     "metadata": {},
     "output_type": "execute_result"
    }
   ],
   "source": [
    "!!wget -nc http://labfile.oss.aliyuncs.com/courses/1081/course-8-data.csv\n",
    "    "
   ]
  },
  {
   "cell_type": "code",
   "execution_count": 18,
   "metadata": {},
   "outputs": [
    {
     "data": {
      "text/plain": [
       "(150, 2)"
      ]
     },
     "execution_count": 18,
     "metadata": {},
     "output_type": "execute_result"
    }
   ],
   "source": [
    "df = pd.read_csv('course-8-data.csv',header = 0)\n",
    "df.head()\n",
    "\n",
    "x.shape\n"
   ]
  },
  {
   "cell_type": "code",
   "execution_count": 30,
   "metadata": {},
   "outputs": [],
   "source": [
    "def Logistic_Regression(x, y, lr, num_iter):\n",
    "    intercept = np.ones((x.shape[0], 1)) # 初始化截距为 1\n",
    "    x = np.concatenate((intercept, x), axis=1)\n",
    "    w = np.zeros(x.shape[1]) # 初始化参数为 0\n",
    "    \n",
    "    for i in range(num_iter): # 梯度下降迭代\n",
    "        z = np.dot(x, w) # 线性函数\n",
    "        h = sigmoid(z) # sigmoid 函数\n",
    "        \n",
    "        g = gradient(x, h, y) # 计算梯度\n",
    "        w -= lr * g # 通过学习率 lr 计算步长并执行梯度下降\n",
    "        \n",
    "        l = loss(h, y) # 计算损失函数值\n",
    "        \n",
    "    return l, w # 返回迭代后的梯度和参数"
   ]
  },
  {
   "cell_type": "code",
   "execution_count": 31,
   "metadata": {},
   "outputs": [
    {
     "data": {
      "text/plain": [
       "(<function ndarray.mean>, array([-0.80716073,  2.9678543 , -4.84561676]))"
      ]
     },
     "execution_count": 31,
     "metadata": {},
     "output_type": "execute_result"
    }
   ],
   "source": [
    "x = df[['X0','X1']].values\n",
    "y = df['Y'].values\n",
    "lr = 0.01\n",
    "num_iter = 10000\n",
    "\n",
    "L = Logistic_Regression(x,y,lr,num_ietr)\n",
    "L"
   ]
  },
  {
   "cell_type": "code",
   "execution_count": null,
   "metadata": {},
   "outputs": [],
   "source": []
  }
 ],
 "metadata": {
  "kernelspec": {
   "display_name": "Python 3",
   "language": "python",
   "name": "python3"
  },
  "language_info": {
   "codemirror_mode": {
    "name": "ipython",
    "version": 3
   },
   "file_extension": ".py",
   "mimetype": "text/x-python",
   "name": "python",
   "nbconvert_exporter": "python",
   "pygments_lexer": "ipython3",
   "version": "3.6.0"
  }
 },
 "nbformat": 4,
 "nbformat_minor": 2
}
